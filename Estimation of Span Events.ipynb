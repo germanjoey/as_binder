{
 "cells": [
  {
   "cell_type": "code",
   "execution_count": 147,
   "metadata": {},
   "outputs": [],
   "source": [
    "import numpy\n",
    "from scipy.stats import lognorm\n",
    "from pt.plotter import *\n",
    "from bqplot import LogScale\n",
    "\n",
    "days_per_month = 365.25/12.0\n",
    "minutes_per_day = 60.0*24.0\n",
    "minutes_per_month = days_per_month * minutes_per_day\n",
    "\n",
    "size_per_datastore_span = 1000\n",
    "cost_per_storage_byte = 0.5 / 1000000000\n",
    "\n",
    "transactions_per_minute = [1, 2, 5, 10, 20, 50, 100, 200, 500, 1000, 2000, 5000, 10000]\n",
    "set_default_plotter_options({\n",
    "    'lambda_span_bias': [ float(\"%4.2f\" % (0.05 * x)) for x in range(1, 40)],\n",
    "    'size_per_span': [100, 200, 300, 400],\n",
    "    'transactions_per_minute': transactions_per_minute,\n",
    "    'refresh_rate': [0.25, 0.5, 1, 2, 5, 10],\n",
    "    'percent_datastore_spans': [5*x for x in range(21)],\n",
    "    'size_per_span': [100, 150, 250, 350, 450],\n",
    "    'text_compression_ratio': [x/10.0 for x in range(1, 11)]\n",
    "})"
   ]
  },
  {
   "cell_type": "code",
   "execution_count": 148,
   "metadata": {},
   "outputs": [
    {
     "data": {
      "application/vnd.jupyter.widget-view+json": {
       "model_id": "d2fc50dcea9144c9a9821b8cc3eb4a42",
       "version_major": 2,
       "version_minor": 0
      },
      "text/plain": [
       "VBox(children=(SelectionSlider(description='Lambda_Span_Bias', index=19, options=(0.05, 0.1, 0.15, 0.2, 0.25, …"
      ]
     },
     "metadata": {},
     "output_type": "display_data"
    },
    {
     "data": {
      "application/vnd.jupyter.widget-view+json": {
       "model_id": "b4c8775e13fb455e865148f9796bc5b2",
       "version_major": 2,
       "version_minor": 0
      },
      "text/plain": [
       "Figure(axes=[Axis(label='Span Event Count Per Transaction', scale=LogScale(max=1000.0, min=1.0)), Axis(label='…"
      ]
     },
     "metadata": {},
     "output_type": "display_data"
    }
   ],
   "source": [
    "xdata = numpy.logspace(0, numpy.log10(1000), 100)\n",
    "\n",
    "span_count = lognorm(1, scale=14.33, loc=-1)\n",
    "\n",
    "def gen_ln(x, lambda_span_bias=1.0):\n",
    "    return span_count.cdf((x-1) / lambda_span_bias)\n",
    "\n",
    "spans = make_quick_plot(\n",
    "        xdata, gen_ln,\n",
    "        hline(0.37), # X < 10\n",
    "        hline(0.67), # X < 20\n",
    "        hline(0.90), # X < 50\n",
    "        hline(0.97), # X < 100\n",
    "        title='Spans Per Transaction',\n",
    "        ax='Span Event Count Per Transaction',\n",
    "        ay='Cumulative Probability',\n",
    "        xscale=LogScale,\n",
    "        defaults={\n",
    "            'lambda_span_bias': 1.0\n",
    "        })\n"
   ]
  },
  {
   "cell_type": "code",
   "execution_count": 149,
   "metadata": {},
   "outputs": [
    {
     "data": {
      "application/vnd.jupyter.widget-view+json": {
       "model_id": "2458332eaa094e51a8f9fcdcbbcb1120",
       "version_major": 2,
       "version_minor": 0
      },
      "text/plain": [
       "VBox()"
      ]
     },
     "metadata": {},
     "output_type": "display_data"
    },
    {
     "data": {
      "application/vnd.jupyter.widget-view+json": {
       "model_id": "e70dd8da44ee40d3af2e028ad82e2a1b",
       "version_major": 2,
       "version_minor": 0
      },
      "text/plain": [
       "Figure(axes=[Axis(label='Transactions Per Minute', scale=LogScale(max=10000.0, min=1.0)), Axis(label='Cost Per…"
      ]
     },
     "metadata": {},
     "output_type": "display_data"
    }
   ],
   "source": [
    "def gen_cost_every_transaction(xdata):\n",
    "    return [x*minutes_per_month*(0.01/1000) for x in xdata]\n",
    "\n",
    "spans = make_quick_plot(\n",
    "        transactions_per_minute, gen_cost_every_transaction,\n",
    "        title='Cloudwatch-API-query cost, when querying invocations/minute for every transaction',\n",
    "        ax='Transactions Per Minute',\n",
    "        ay='Cost Per Month ($)',\n",
    "        xscale=LogScale,\n",
    "        defaults={})\n"
   ]
  },
  {
   "cell_type": "code",
   "execution_count": 150,
   "metadata": {},
   "outputs": [
    {
     "data": {
      "application/vnd.jupyter.widget-view+json": {
       "model_id": "5508d82b73da43119ba49f61c79767d0",
       "version_major": 2,
       "version_minor": 0
      },
      "text/plain": [
       "VBox(children=(SelectionSlider(description='Refresh_Rate', index=2, options=(0.25, 0.5, 1, 2, 5, 10), value=1)…"
      ]
     },
     "metadata": {},
     "output_type": "display_data"
    },
    {
     "data": {
      "application/vnd.jupyter.widget-view+json": {
       "model_id": "052efeb0b7f34748876a1452d4293207",
       "version_major": 2,
       "version_minor": 0
      },
      "text/plain": [
       "Figure(axes=[Axis(label='Average Concurrent Executions', scale=LinearScale(max=20.0, min=1.0)), Axis(label='Co…"
      ]
     },
     "metadata": {},
     "output_type": "display_data"
    }
   ],
   "source": [
    "concurrent_executions = [1, 2, 5, 10, 20]\n",
    "\n",
    "def gen_cost_refresh(xdata, refresh_rate=1.0):\n",
    "    return [minutes_per_month*x*(0.01/1000)/refresh_rate for x in xdata]\n",
    "\n",
    "spans = make_quick_plot(\n",
    "        concurrent_executions, gen_cost_refresh,\n",
    "        title='Cloudwatch-API-query cost when updating each execution once/minute',\n",
    "        ax='Average Concurrent Executions',\n",
    "        ay='Cost Per Month ($)',\n",
    "        ysc_min=0.0,\n",
    "        ysc_max=40.0,\n",
    "        defaults={\n",
    "            'refresh_rate': 1.0\n",
    "        })\n"
   ]
  },
  {
   "cell_type": "code",
   "execution_count": 151,
   "metadata": {},
   "outputs": [
    {
     "data": {
      "application/vnd.jupyter.widget-view+json": {
       "model_id": "c9bfb8408b714c1491848e6f0c095605",
       "version_major": 2,
       "version_minor": 0
      },
      "text/plain": [
       "VBox()"
      ]
     },
     "metadata": {},
     "output_type": "display_data"
    },
    {
     "data": {
      "application/vnd.jupyter.widget-view+json": {
       "model_id": "b09eec0997ac4c8f96a753213799894f",
       "version_major": 2,
       "version_minor": 0
      },
      "text/plain": [
       "Figure(axes=[Axis(label='Average Concurrent Executions', scale=LinearScale(max=1.0, min=0.05)), Axis(label='Co…"
      ]
     },
     "metadata": {},
     "output_type": "display_data"
    }
   ],
   "source": [
    "hub_refresh_rate = [1.0/x for x in [1, 2, 5, 10, 20]]\n",
    "\n",
    "def gen_cost_every_minute(xdata):\n",
    "    return [minutes_per_month*(0.01/1000)*x for x in xdata]\n",
    "\n",
    "spans = make_quick_plot(\n",
    "        hub_refresh_rate, gen_cost_every_minute,\n",
    "        title='Cloudwatch-API-Query cost when updating each execution once/minute',\n",
    "        ax='Average Concurrent Executions',\n",
    "        ay='Cost Per Month ($)',\n",
    "        ysc_min=0.0,\n",
    "        ysc_max=1.0,\n",
    "        defaults={})\n"
   ]
  },
  {
   "cell_type": "code",
   "execution_count": 158,
   "metadata": {},
   "outputs": [
    {
     "data": {
      "application/vnd.jupyter.widget-view+json": {
       "model_id": "606351426ce54f71a006884891f08dc7",
       "version_major": 2,
       "version_minor": 0
      },
      "text/plain": [
       "VBox(children=(SelectionSlider(description='Lambda_Span_Bias', index=19, options=(0.05, 0.1, 0.15, 0.2, 0.25, …"
      ]
     },
     "metadata": {},
     "output_type": "display_data"
    },
    {
     "data": {
      "application/vnd.jupyter.widget-view+json": {
       "model_id": "d4afd3103e4e4e3eaaad511f3632a2ff",
       "version_major": 2,
       "version_minor": 0
      },
      "text/plain": [
       "Figure(axes=[Axis(label='Percentile, spans per transaction', scale=LinearScale(max=100.0, min=1.0)), Axis(labe…"
      ]
     },
     "metadata": {},
     "output_type": "display_data"
    }
   ],
   "source": [
    "spans_per_transaction_percentile = range(1, 101)\n",
    "\n",
    "\n",
    "# TODO: ADD DATASTORE SPANS\n",
    "def gen_log_cost(xdata, transactions_per_minute=1,\n",
    "                 lambda_span_bias=1.0, percent_datastore_spans=0.0,\n",
    "                 size_per_span=350, text_compression_ratio=1.0):\n",
    "\n",
    "    fraction_datastore_spans = percent_datastore_spans / 100\n",
    "    return [\n",
    "        (minutes_per_month*transactions_per_minute*text_compression_ratio*\n",
    "         cost_per_storage_byte*lambda_span_bias*span_count.ppf(x/100)*(\n",
    "                size_per_span*(1-fraction_datastore_spans)\n",
    "              + (size_per_span+size_per_datastore_span)*lambda_span_bias*x*fraction_datastore_spans))\n",
    "            for x in xdata]\n",
    "\n",
    "spans = make_quick_plot(\n",
    "        spans_per_transaction_percentile, gen_log_cost,\n",
    "        title='Cloudwatch-log storage cost for spans',\n",
    "        ax='Percentile, spans per transaction',\n",
    "        ay='Cost Per Month ($)',\n",
    "        ysc_min=0.0,\n",
    "        ysc_max=100.0,\n",
    "        defaults={\n",
    "            'lambda_span_bias': 1.0,\n",
    "            'transactions_per_minute': 1000,\n",
    "            'percent_datastore_spans': 0.0,\n",
    "            'size_per_span': 350,\n",
    "            'text_compression_ratio': 1.0\n",
    "        })"
   ]
  },
  {
   "cell_type": "code",
   "execution_count": 153,
   "metadata": {},
   "outputs": [
    {
     "data": {
      "text/plain": [
       "13.33"
      ]
     },
     "execution_count": 153,
     "metadata": {},
     "output_type": "execute_result"
    }
   ],
   "source": [
    "span_count.ppf(0.5)"
   ]
  },
  {
   "cell_type": "code",
   "execution_count": null,
   "metadata": {},
   "outputs": [],
   "source": []
  },
  {
   "cell_type": "code",
   "execution_count": null,
   "metadata": {},
   "outputs": [],
   "source": []
  },
  {
   "cell_type": "code",
   "execution_count": null,
   "metadata": {},
   "outputs": [],
   "source": []
  }
 ],
 "metadata": {
  "kernelspec": {
   "display_name": "Python 3",
   "language": "python",
   "name": "python3"
  },
  "language_info": {
   "codemirror_mode": {
    "name": "ipython",
    "version": 3
   },
   "file_extension": ".py",
   "mimetype": "text/x-python",
   "name": "python",
   "nbconvert_exporter": "python",
   "pygments_lexer": "ipython3",
   "version": "3.6.4"
  },
  "toc": {
   "base_numbering": 1,
   "nav_menu": {},
   "number_sections": true,
   "sideBar": true,
   "skip_h1_title": false,
   "title_cell": "Table of Contents",
   "title_sidebar": "Contents",
   "toc_cell": false,
   "toc_position": {},
   "toc_section_display": true,
   "toc_window_display": false
  }
 },
 "nbformat": 4,
 "nbformat_minor": 2
}
