{
 "cells": [
  {
   "cell_type": "markdown",
   "metadata": {},
   "source": [
    "# Span Experiments\n",
    "\n",
    "## Table of Contents\n",
    "\n",
    "1. [Full Trace Degradation Rate](#Full-Trace-Degradation-Rate)\n",
    "2. [Effect of Adaptive Sampling Algorithm on Full Trace Degradation Rate](#Effect-of-Adaptive-Sampling-Algorithm-on-Full-Trace-Degradation-Rate)\n",
    "3. [Trace Compression Ratio](#Trace-Compression-Ratio)\n",
    "4. [Secondary Sorting Method](#Secondary Sorting Method)\n",
    "\n",
    "## Reminder\n",
    "\n",
    "This is a jupyter notebook, and thus has some interactive elements. Please select Cell -> Run All before reading!\n",
    "\n",
    "## Code\n",
    "\n",
    "All simulation code can be found on [github](https://github.com/germanjoey/as_binder)."
   ]
  },
  {
   "cell_type": "markdown",
   "metadata": {},
   "source": [
    "# Full Trace Degradation Rate\n",
    "\n",
    "\n",
    "## Motivation\n",
    "\n",
    "Span secondary sorting is a potentially complex operation that would only be necessary if a significant number of traces are clipped from the span reservoir. That means that secondary sorting is intimately conditional on a.) the function of the agent's adaptive sampling algorithm and b.) the number of agent-instrumented services upstream. (the agent's \"fan-in\")\n",
    "\n",
    "So, I wanted to devise an experiment to examine the relationship trace size, fan in, and reservoir size.\n",
    "\n",
    "## Questions I'm Interested in:\n",
    "\n",
    "1. Is secondary sorting worthwhile to do with our current harvest setup? (1 harvest a minute, span reservoir of size 1000)\n",
    "2. Is secondary sorting worthwhile to do with a future setup? (e.g. 10 harvests a minute, span reservoir of size 100)\n",
    "\n",
    "## Experiment Setup\n",
    "\n",
    "1. Generate N different \"Agent-Instrumented Microservices\" (AIM) with reservoirs of size S.\n",
    "2. For each of the N AIMs, simulate them running with a fan-in of 1 to F. Each fan-in service sends a random number of sampled=True transactions to this agent. (details below)\n",
    "3. For each of the N*F simulations, the agent should be run for M independent harvests.\n",
    "4. Compare the number of sampled=True transactions to the number of fully-intact traces.\n",
    "\n",
    "### The harvest of an \"Agent-Instrumented Microservices\" will do something like:\n",
    "\n",
    "1. An AIM consists of of 6 to 11 (uniform random) \"endpoints\", which represent paths that handle requests via instrumted code. That is to say, an endpoint intakes a request and generates a trace.\n",
    "2. For each datasource upstream of the AIM, a random number of sampled=True requests will be generated. (uniform-distributed, mean of 10, roughly similar to the current Adaptive Sampling algorithm)\n",
    "3. For each sampled=True request, a priority and a trace of an endpoint is generated, and placed into a reservoir of size S. Traces that don't fit into the reservoir are cut-off and/or discarded.\n",
    "\n",
    "### \"Endpoint\" will do something like:\n",
    "\n",
    "1. Will generate N span-events according to a random trace\n",
    "2. The number of spans in the trace is based on a lognormal distribution, with the 50th percentile (median) count being 14 and the 99th percentile being around 225, according to the span-size statistics data collected by the Java Agent team.\n",
    "3. The trace (hopefully) will have a \"realistic\" width, depth and number of datastores/externals based on the number of spans in the trace.\n",
    "\n",
    "### Random Endpoint visualization\n",
    "\n",
    "* Each span has a name based on its category; 'generic' spans are split into \"calls\" and \"nodes\"\n",
    "* Note: you can re-run (shift-enter) the next cell to re-generate a new trace"
   ]
  },
  {
   "cell_type": "code",
   "execution_count": 1,
   "metadata": {
    "scrolled": false
   },
   "outputs": [
    {
     "name": "stdout",
     "output_type": "stream",
     "text": [
      "RAW FORM:\n",
      "\n",
      "[   'external0',\n",
      "    'node0',\n",
      "    [['dbcall0', ['dbcall1', 'node1']], ['node2', 'node3', 'node4']],\n",
      "    [['dbcall2', 'dbcall3'], ['dbcall4', 'node5']]]\n"
     ]
    },
    {
     "data": {
      "image/svg+xml": [
       "<svg height=\"476pt\" viewBox=\"0.00 0.00 491.14 476.00\" width=\"491pt\" xmlns=\"http://www.w3.org/2000/svg\" xmlns:xlink=\"http://www.w3.org/1999/xlink\">\n",
       "<g class=\"graph\" id=\"graph0\" transform=\"scale(1 1) rotate(0) translate(4 472)\">\n",
       "<title>%3</title>\n",
       "<polygon fill=\"#ffffff\" points=\"-4,4 -4,-472 487.1438,-472 487.1438,4 -4,4\" stroke=\"transparent\"/>\n",
       "<!-- 0 -->\n",
       "<g class=\"node\" id=\"node1\">\n",
       "<title>0</title>\n",
       "<ellipse cx=\"27\" cy=\"-315\" fill=\"#ffffff\" rx=\"27\" ry=\"18\" stroke=\"#000000\"/>\n",
       "<text fill=\"#ff00ff\" font-family=\"Times,serif\" font-size=\"14.00\" text-anchor=\"middle\" x=\"27\" y=\"-310.8\">root</text>\n",
       "</g>\n",
       "<!-- 1 -->\n",
       "<g class=\"node\" id=\"node2\">\n",
       "<title>1</title>\n",
       "<ellipse cx=\"133.0064\" cy=\"-396\" fill=\"#ffffff\" rx=\"43.0128\" ry=\"18\" stroke=\"#000000\"/>\n",
       "<text fill=\"#ff0000\" font-family=\"Times,serif\" font-size=\"14.00\" text-anchor=\"middle\" x=\"133.0064\" y=\"-391.8\">external0</text>\n",
       "</g>\n",
       "<!-- 0&#45;&gt;1 -->\n",
       "<g class=\"edge\" id=\"edge1\">\n",
       "<title>0-&gt;1</title>\n",
       "<path d=\"M42.7743,-329.668C55.2016,-340.9367 73.179,-356.616 90,-369 93.0172,-371.2213 96.218,-373.4493 99.4581,-375.6204\" fill=\"none\" stroke=\"#000000\"/>\n",
       "<polygon fill=\"#000000\" points=\"97.7361,-378.6755 108.028,-381.1912 101.5513,-372.8065 97.7361,-378.6755\" stroke=\"#000000\"/>\n",
       "</g>\n",
       "<!-- 2 -->\n",
       "<g class=\"node\" id=\"node3\">\n",
       "<title>2</title>\n",
       "<ellipse cx=\"133.0064\" cy=\"-342\" fill=\"#ffffff\" rx=\"31.9393\" ry=\"18\" stroke=\"#000000\"/>\n",
       "<text fill=\"#000000\" font-family=\"Times,serif\" font-size=\"14.00\" text-anchor=\"middle\" x=\"133.0064\" y=\"-337.8\">node0</text>\n",
       "</g>\n",
       "<!-- 0&#45;&gt;2 -->\n",
       "<g class=\"edge\" id=\"edge2\">\n",
       "<title>0-&gt;2</title>\n",
       "<path d=\"M52.3912,-321.4672C64.8119,-324.6308 80.0395,-328.5092 93.9021,-332.0401\" fill=\"none\" stroke=\"#000000\"/>\n",
       "<polygon fill=\"#000000\" points=\"93.1409,-335.4579 103.6954,-334.5344 94.8687,-328.6744 93.1409,-335.4579\" stroke=\"#000000\"/>\n",
       "</g>\n",
       "<!-- 3 -->\n",
       "<g class=\"node\" id=\"node4\">\n",
       "<title>3</title>\n",
       "<ellipse cx=\"133.0064\" cy=\"-288\" fill=\"#ffffff\" rx=\"27.0873\" ry=\"18\" stroke=\"#000000\"/>\n",
       "<text fill=\"#666666\" font-family=\"Times,serif\" font-size=\"14.00\" text-anchor=\"middle\" x=\"133.0064\" y=\"-283.8\">call0</text>\n",
       "</g>\n",
       "<!-- 0&#45;&gt;3 -->\n",
       "<g class=\"edge\" id=\"edge3\">\n",
       "<title>0-&gt;3</title>\n",
       "<path d=\"M52.3912,-308.5328C65.9279,-305.085 82.7983,-300.7881 97.6025,-297.0174\" fill=\"none\" stroke=\"#000000\"/>\n",
       "<polygon fill=\"#000000\" points=\"98.6283,-300.368 107.455,-294.508 96.9005,-293.5846 98.6283,-300.368\" stroke=\"#000000\"/>\n",
       "</g>\n",
       "<!-- 13 -->\n",
       "<g class=\"node\" id=\"node14\">\n",
       "<title>13</title>\n",
       "<ellipse cx=\"133.0064\" cy=\"-153\" fill=\"#ffffff\" rx=\"27.0873\" ry=\"18\" stroke=\"#000000\"/>\n",
       "<text fill=\"#666666\" font-family=\"Times,serif\" font-size=\"14.00\" text-anchor=\"middle\" x=\"133.0064\" y=\"-148.8\">call4</text>\n",
       "</g>\n",
       "<!-- 0&#45;&gt;13 -->\n",
       "<g class=\"edge\" id=\"edge13\">\n",
       "<title>0-&gt;13</title>\n",
       "<path d=\"M37.9453,-298.2733C56.5129,-269.898 94.2989,-212.1532 116.2268,-178.6428\" fill=\"none\" stroke=\"#000000\"/>\n",
       "<polygon fill=\"#000000\" points=\"119.415,-180.1626 121.9619,-169.8784 113.5576,-176.3297 119.415,-180.1626\" stroke=\"#000000\"/>\n",
       "</g>\n",
       "<!-- 4 -->\n",
       "<g class=\"node\" id=\"node5\">\n",
       "<title>4</title>\n",
       "<ellipse cx=\"239.3057\" cy=\"-396\" fill=\"#ffffff\" rx=\"27.0873\" ry=\"18\" stroke=\"#000000\"/>\n",
       "<text fill=\"#666666\" font-family=\"Times,serif\" font-size=\"14.00\" text-anchor=\"middle\" x=\"239.3057\" y=\"-391.8\">call1</text>\n",
       "</g>\n",
       "<!-- 3&#45;&gt;4 -->\n",
       "<g class=\"edge\" id=\"edge4\">\n",
       "<title>3-&gt;4</title>\n",
       "<path d=\"M154.6007,-299.5454C161.7925,-303.8993 169.5983,-309.2124 176.0128,-315 194.292,-331.4926 211.2503,-353.7318 223.0032,-370.7349\" fill=\"none\" stroke=\"#000000\"/>\n",
       "<polygon fill=\"#000000\" points=\"220.1529,-372.768 228.6542,-379.0909 225.9515,-368.8466 220.1529,-372.768\" stroke=\"#000000\"/>\n",
       "</g>\n",
       "<!-- 9 -->\n",
       "<g class=\"node\" id=\"node10\">\n",
       "<title>9</title>\n",
       "<ellipse cx=\"239.3057\" cy=\"-288\" fill=\"#ffffff\" rx=\"27.0873\" ry=\"18\" stroke=\"#000000\"/>\n",
       "<text fill=\"#666666\" font-family=\"Times,serif\" font-size=\"14.00\" text-anchor=\"middle\" x=\"239.3057\" y=\"-283.8\">call3</text>\n",
       "</g>\n",
       "<!-- 3&#45;&gt;9 -->\n",
       "<g class=\"edge\" id=\"edge9\">\n",
       "<title>3-&gt;9</title>\n",
       "<path d=\"M160.3811,-288C172.9302,-288 188.0087,-288 201.6088,-288\" fill=\"none\" stroke=\"#000000\"/>\n",
       "<polygon fill=\"#000000\" points=\"201.6543,-291.5001 211.6543,-288 201.6543,-284.5001 201.6543,-291.5001\" stroke=\"#000000\"/>\n",
       "</g>\n",
       "<!-- 5 -->\n",
       "<g class=\"node\" id=\"node6\">\n",
       "<title>5</title>\n",
       "<ellipse cx=\"338.7348\" cy=\"-450\" fill=\"#ffffff\" rx=\"36.2732\" ry=\"18\" stroke=\"#000000\"/>\n",
       "<text fill=\"#00ff00\" font-family=\"Times,serif\" font-size=\"14.00\" text-anchor=\"middle\" x=\"338.7348\" y=\"-445.8\">dbcall0</text>\n",
       "</g>\n",
       "<!-- 4&#45;&gt;5 -->\n",
       "<g class=\"edge\" id=\"edge5\">\n",
       "<title>4-&gt;5</title>\n",
       "<path d=\"M260.392,-407.452C273.4212,-414.5282 290.4301,-423.7657 305.2689,-431.8246\" fill=\"none\" stroke=\"#000000\"/>\n",
       "<polygon fill=\"#000000\" points=\"303.7147,-434.9634 314.1728,-436.6603 307.0556,-428.812 303.7147,-434.9634\" stroke=\"#000000\"/>\n",
       "</g>\n",
       "<!-- 6 -->\n",
       "<g class=\"node\" id=\"node7\">\n",
       "<title>6</title>\n",
       "<ellipse cx=\"338.7348\" cy=\"-396\" fill=\"#ffffff\" rx=\"27.0873\" ry=\"18\" stroke=\"#000000\"/>\n",
       "<text fill=\"#666666\" font-family=\"Times,serif\" font-size=\"14.00\" text-anchor=\"middle\" x=\"338.7348\" y=\"-391.8\">call2</text>\n",
       "</g>\n",
       "<!-- 4&#45;&gt;6 -->\n",
       "<g class=\"edge\" id=\"edge6\">\n",
       "<title>4-&gt;6</title>\n",
       "<path d=\"M266.7383,-396C277.3886,-396 289.7589,-396 301.2098,-396\" fill=\"none\" stroke=\"#000000\"/>\n",
       "<polygon fill=\"#000000\" points=\"301.3917,-399.5001 311.3917,-396 301.3917,-392.5001 301.3917,-399.5001\" stroke=\"#000000\"/>\n",
       "</g>\n",
       "<!-- 7 -->\n",
       "<g class=\"node\" id=\"node8\">\n",
       "<title>7</title>\n",
       "<ellipse cx=\"447.0075\" cy=\"-423\" fill=\"#ffffff\" rx=\"36.2732\" ry=\"18\" stroke=\"#000000\"/>\n",
       "<text fill=\"#00ff00\" font-family=\"Times,serif\" font-size=\"14.00\" text-anchor=\"middle\" x=\"447.0075\" y=\"-418.8\">dbcall1</text>\n",
       "</g>\n",
       "<!-- 6&#45;&gt;7 -->\n",
       "<g class=\"edge\" id=\"edge7\">\n",
       "<title>6-&gt;7</title>\n",
       "<path d=\"M364.394,-402.3986C376.3537,-405.381 390.9056,-409.0098 404.4444,-412.386\" fill=\"none\" stroke=\"#000000\"/>\n",
       "<polygon fill=\"#000000\" points=\"403.9907,-415.88 414.5405,-414.9037 405.6845,-409.088 403.9907,-415.88\" stroke=\"#000000\"/>\n",
       "</g>\n",
       "<!-- 8 -->\n",
       "<g class=\"node\" id=\"node9\">\n",
       "<title>8</title>\n",
       "<ellipse cx=\"447.0075\" cy=\"-369\" fill=\"#ffffff\" rx=\"31.9393\" ry=\"18\" stroke=\"#000000\"/>\n",
       "<text fill=\"#000000\" font-family=\"Times,serif\" font-size=\"14.00\" text-anchor=\"middle\" x=\"447.0075\" y=\"-364.8\">node1</text>\n",
       "</g>\n",
       "<!-- 6&#45;&gt;8 -->\n",
       "<g class=\"edge\" id=\"edge8\">\n",
       "<title>6-&gt;8</title>\n",
       "<path d=\"M364.394,-389.6014C377.4011,-386.3578 393.4744,-382.3496 407.976,-378.7333\" fill=\"none\" stroke=\"#000000\"/>\n",
       "<polygon fill=\"#000000\" points=\"408.8514,-382.1223 417.7074,-376.3066 407.1576,-375.3303 408.8514,-382.1223\" stroke=\"#000000\"/>\n",
       "</g>\n",
       "<!-- 10 -->\n",
       "<g class=\"node\" id=\"node11\">\n",
       "<title>10</title>\n",
       "<ellipse cx=\"338.7348\" cy=\"-342\" fill=\"#ffffff\" rx=\"31.9393\" ry=\"18\" stroke=\"#000000\"/>\n",
       "<text fill=\"#000000\" font-family=\"Times,serif\" font-size=\"14.00\" text-anchor=\"middle\" x=\"338.7348\" y=\"-337.8\">node2</text>\n",
       "</g>\n",
       "<!-- 9&#45;&gt;10 -->\n",
       "<g class=\"edge\" id=\"edge10\">\n",
       "<title>9-&gt;10</title>\n",
       "<path d=\"M260.392,-299.452C273.7989,-306.7333 291.4194,-316.303 306.5536,-324.5224\" fill=\"none\" stroke=\"#000000\"/>\n",
       "<polygon fill=\"#000000\" points=\"305.1375,-327.7361 315.5956,-329.4331 308.4784,-321.5848 305.1375,-327.7361\" stroke=\"#000000\"/>\n",
       "</g>\n",
       "<!-- 11 -->\n",
       "<g class=\"node\" id=\"node12\">\n",
       "<title>11</title>\n",
       "<ellipse cx=\"338.7348\" cy=\"-288\" fill=\"#ffffff\" rx=\"31.9393\" ry=\"18\" stroke=\"#000000\"/>\n",
       "<text fill=\"#000000\" font-family=\"Times,serif\" font-size=\"14.00\" text-anchor=\"middle\" x=\"338.7348\" y=\"-283.8\">node3</text>\n",
       "</g>\n",
       "<!-- 9&#45;&gt;11 -->\n",
       "<g class=\"edge\" id=\"edge11\">\n",
       "<title>9-&gt;11</title>\n",
       "<path d=\"M266.7383,-288C275.9533,-288 286.4561,-288 296.5368,-288\" fill=\"none\" stroke=\"#000000\"/>\n",
       "<polygon fill=\"#000000\" points=\"296.8175,-291.5001 306.8175,-288 296.8174,-284.5001 296.8175,-291.5001\" stroke=\"#000000\"/>\n",
       "</g>\n",
       "<!-- 12 -->\n",
       "<g class=\"node\" id=\"node13\">\n",
       "<title>12</title>\n",
       "<ellipse cx=\"338.7348\" cy=\"-234\" fill=\"#ffffff\" rx=\"31.9393\" ry=\"18\" stroke=\"#000000\"/>\n",
       "<text fill=\"#000000\" font-family=\"Times,serif\" font-size=\"14.00\" text-anchor=\"middle\" x=\"338.7348\" y=\"-229.8\">node4</text>\n",
       "</g>\n",
       "<!-- 9&#45;&gt;12 -->\n",
       "<g class=\"edge\" id=\"edge12\">\n",
       "<title>9-&gt;12</title>\n",
       "<path d=\"M260.392,-276.548C273.7989,-269.2667 291.4194,-259.697 306.5536,-251.4776\" fill=\"none\" stroke=\"#000000\"/>\n",
       "<polygon fill=\"#000000\" points=\"308.4784,-254.4152 315.5956,-246.5669 305.1375,-248.2639 308.4784,-254.4152\" stroke=\"#000000\"/>\n",
       "</g>\n",
       "<!-- 14 -->\n",
       "<g class=\"node\" id=\"node15\">\n",
       "<title>14</title>\n",
       "<ellipse cx=\"239.3057\" cy=\"-153\" fill=\"#ffffff\" rx=\"27.0873\" ry=\"18\" stroke=\"#000000\"/>\n",
       "<text fill=\"#666666\" font-family=\"Times,serif\" font-size=\"14.00\" text-anchor=\"middle\" x=\"239.3057\" y=\"-148.8\">call5</text>\n",
       "</g>\n",
       "<!-- 13&#45;&gt;14 -->\n",
       "<g class=\"edge\" id=\"edge14\">\n",
       "<title>13-&gt;14</title>\n",
       "<path d=\"M160.3811,-153C172.9302,-153 188.0087,-153 201.6088,-153\" fill=\"none\" stroke=\"#000000\"/>\n",
       "<polygon fill=\"#000000\" points=\"201.6543,-156.5001 211.6543,-153 201.6543,-149.5001 201.6543,-156.5001\" stroke=\"#000000\"/>\n",
       "</g>\n",
       "<!-- 17 -->\n",
       "<g class=\"node\" id=\"node18\">\n",
       "<title>17</title>\n",
       "<ellipse cx=\"239.3057\" cy=\"-72\" fill=\"#ffffff\" rx=\"27.0873\" ry=\"18\" stroke=\"#000000\"/>\n",
       "<text fill=\"#666666\" font-family=\"Times,serif\" font-size=\"14.00\" text-anchor=\"middle\" x=\"239.3057\" y=\"-67.8\">call6</text>\n",
       "</g>\n",
       "<!-- 13&#45;&gt;17 -->\n",
       "<g class=\"edge\" id=\"edge17\">\n",
       "<title>13-&gt;17</title>\n",
       "<path d=\"M151.0386,-139.2595C168.066,-126.2846 193.7972,-106.6774 213.0914,-91.9753\" fill=\"none\" stroke=\"#000000\"/>\n",
       "<polygon fill=\"#000000\" points=\"215.3524,-94.6528 221.185,-85.808 211.1097,-89.085 215.3524,-94.6528\" stroke=\"#000000\"/>\n",
       "</g>\n",
       "<!-- 15 -->\n",
       "<g class=\"node\" id=\"node16\">\n",
       "<title>15</title>\n",
       "<ellipse cx=\"338.7348\" cy=\"-180\" fill=\"#ffffff\" rx=\"36.2732\" ry=\"18\" stroke=\"#000000\"/>\n",
       "<text fill=\"#00ff00\" font-family=\"Times,serif\" font-size=\"14.00\" text-anchor=\"middle\" x=\"338.7348\" y=\"-175.8\">dbcall2</text>\n",
       "</g>\n",
       "<!-- 14&#45;&gt;15 -->\n",
       "<g class=\"edge\" id=\"edge15\">\n",
       "<title>14-&gt;15</title>\n",
       "<path d=\"M264.6531,-159.8831C274.4324,-162.5387 285.883,-165.6481 296.8174,-168.6173\" fill=\"none\" stroke=\"#000000\"/>\n",
       "<polygon fill=\"#000000\" points=\"296.0837,-172.0448 306.6515,-171.2878 297.9182,-165.2894 296.0837,-172.0448\" stroke=\"#000000\"/>\n",
       "</g>\n",
       "<!-- 16 -->\n",
       "<g class=\"node\" id=\"node17\">\n",
       "<title>16</title>\n",
       "<ellipse cx=\"338.7348\" cy=\"-126\" fill=\"#ffffff\" rx=\"36.2732\" ry=\"18\" stroke=\"#000000\"/>\n",
       "<text fill=\"#00ff00\" font-family=\"Times,serif\" font-size=\"14.00\" text-anchor=\"middle\" x=\"338.7348\" y=\"-121.8\">dbcall3</text>\n",
       "</g>\n",
       "<!-- 14&#45;&gt;16 -->\n",
       "<g class=\"edge\" id=\"edge16\">\n",
       "<title>14-&gt;16</title>\n",
       "<path d=\"M264.6531,-146.1169C274.4324,-143.4613 285.883,-140.3519 296.8174,-137.3827\" fill=\"none\" stroke=\"#000000\"/>\n",
       "<polygon fill=\"#000000\" points=\"297.9182,-140.7106 306.6515,-134.7122 296.0837,-133.9552 297.9182,-140.7106\" stroke=\"#000000\"/>\n",
       "</g>\n",
       "<!-- 18 -->\n",
       "<g class=\"node\" id=\"node19\">\n",
       "<title>18</title>\n",
       "<ellipse cx=\"338.7348\" cy=\"-72\" fill=\"#ffffff\" rx=\"36.2732\" ry=\"18\" stroke=\"#000000\"/>\n",
       "<text fill=\"#00ff00\" font-family=\"Times,serif\" font-size=\"14.00\" text-anchor=\"middle\" x=\"338.7348\" y=\"-67.8\">dbcall4</text>\n",
       "</g>\n",
       "<!-- 17&#45;&gt;18 -->\n",
       "<g class=\"edge\" id=\"edge18\">\n",
       "<title>17-&gt;18</title>\n",
       "<path d=\"M266.7383,-72C274.6708,-72 283.5575,-72 292.3077,-72\" fill=\"none\" stroke=\"#000000\"/>\n",
       "<polygon fill=\"#000000\" points=\"292.4518,-75.5001 302.4518,-72 292.4518,-68.5001 292.4518,-75.5001\" stroke=\"#000000\"/>\n",
       "</g>\n",
       "<!-- 19 -->\n",
       "<g class=\"node\" id=\"node20\">\n",
       "<title>19</title>\n",
       "<ellipse cx=\"338.7348\" cy=\"-18\" fill=\"#ffffff\" rx=\"31.9393\" ry=\"18\" stroke=\"#000000\"/>\n",
       "<text fill=\"#000000\" font-family=\"Times,serif\" font-size=\"14.00\" text-anchor=\"middle\" x=\"338.7348\" y=\"-13.8\">node5</text>\n",
       "</g>\n",
       "<!-- 17&#45;&gt;19 -->\n",
       "<g class=\"edge\" id=\"edge19\">\n",
       "<title>17-&gt;19</title>\n",
       "<path d=\"M260.392,-60.548C273.7989,-53.2667 291.4194,-43.697 306.5536,-35.4776\" fill=\"none\" stroke=\"#000000\"/>\n",
       "<polygon fill=\"#000000\" points=\"308.4784,-38.4152 315.5956,-30.5669 305.1375,-32.2639 308.4784,-38.4152\" stroke=\"#000000\"/>\n",
       "</g>\n",
       "</g>\n",
       "</svg>"
      ],
      "text/plain": [
       "<IPython.core.display.SVG object>"
      ]
     },
     "metadata": {},
     "output_type": "display_data"
    }
   ],
   "source": [
    "import numpy\n",
    "from ss.mockendpoint import MockEndpoint\n",
    "from ss.mocktrace import MockTrace\n",
    "\n",
    "size_of_trace = 20\n",
    "\n",
    "r = numpy.random.RandomState()\n",
    "mepx = MockEndpoint(r, size_of_trace)\n",
    "meptx = MockTrace(r, mepx)\n",
    "meptx.display_graph(display_raw=True)"
   ]
  },
  {
   "cell_type": "markdown",
   "metadata": {},
   "source": [
    "\n",
    "## Potential Shortcomings\n",
    "\n",
    "1. How realistically shaped are these random traces? They seem pretty good around the average, at the very least? Maybe bigger-sized traces should be less deep? (that is to say, wider?)\n",
    "2. The number of endpoints and datastores per trace scale as the trace size increases, but perhaps too slowly. That is to say, I suspect it might be likely that very big traces may be mostly externals or datastores called in a loop, or something like that.\n",
    "3. Would the size of various \"Endpoint Paths\" in a microservice be correlated? My model generates the sizes independently from each other, but I'm not sure that's right.\n",
    "\n",
    "## Experiment Results"
   ]
  },
  {
   "cell_type": "code",
   "execution_count": 18,
   "metadata": {},
   "outputs": [
    {
     "data": {
      "application/vnd.jupyter.widget-view+json": {
       "model_id": "37758ebb38754591a5f24ba08bc2e53e",
       "version_major": 2,
       "version_minor": 0
      },
      "text/plain": [
       "Figure(axes=[Axis(color='black', label='Average Trace Length', scale=LinearScale(min=0.0)), Axis(color='black'…"
      ]
     },
     "metadata": {},
     "output_type": "display_data"
    },
    {
     "data": {
      "application/vnd.jupyter.widget-view+json": {
       "model_id": "26e5ed13c1384228b2919fea9e2f8717",
       "version_major": 2,
       "version_minor": 0
      },
      "text/plain": [
       "Figure(axes=[Axis(color='black', label='Average Trace Length', scale=LinearScale(min=0.0)), Axis(color='black'…"
      ]
     },
     "metadata": {},
     "output_type": "display_data"
    },
    {
     "data": {
      "application/vnd.jupyter.widget-view+json": {
       "model_id": "9c79d1c66b684ddf9a93f2ba5e032c89",
       "version_major": 2,
       "version_minor": 0
      },
      "text/plain": [
       "Figure(axes=[Axis(color='black', label='Average Trace Length', scale=LinearScale(min=0.0)), Axis(color='black'…"
      ]
     },
     "metadata": {},
     "output_type": "display_data"
    }
   ],
   "source": [
    "%run ss/process_degradation.py\n",
    "\n",
    "plot_degradation_results(reservoir_size=1000, sampling_target=10)\n",
    "plot_degradation_results(reservoir_size=100, sampling_target=1)\n",
    "plot_degradation_results(reservoir_size=100, sampling_target=10)"
   ]
  },
  {
   "cell_type": "markdown",
   "metadata": {},
   "source": [
    "## Conclusion\n",
    "\n",
    "1. It seems as though there's little value for secondary-sorting when fan-in=1, except when Reservoir Size = 100 and Sampling Target = 10.\n",
    "2. However, secondary sorting rapidly becomes useful as fan-in increases. Particular of note is that at fan-in of at least 4, the percentage of full traces starts dropping sharply for microservices with average span length is around 30-35. Given the lognormal distribution estimate for span-lengths, this is approximately around the average path length for an AIM of 6-11 endpoints!\n",
    "3. It is probably catastrophic to not implement some sort of secondary sort if we go to a smaller reservior-size with a faster harvest. Yikes!\n",
    "\n",
    "## Unanswered Questions and Concerns\n",
    "\n",
    "* How does the adaptive sampling algorithm itself affect the full-trace degradation rate? That is to say, the above experiment used a Normal distribution with a fairly tight variance for the number of sampled=True requests per fan-in, which IMHO is pretty optimistic.\n",
    "\n",
    "* How realistic is the random trace model? It seems ok around the mid-range, but I get the feeling that bigger traces should have more externals/endpoints. That is to say, I think it would be more common that a trace of 200 spans wouldn't look so much like a big tree, but rather have some sort of loop that fires off a bunch of queries in a row. For example, we had a support ticket last week for a customer that had 26 second response times... and it was because they fired off 1001 individual elastic search queries in a row (at 22ms a piece) plus 500+ individual postgres queries.\n",
    "\n",
    "* On one hand, actual traces generated from actual agents would be much better than these randomly generated ones. However, there's the real danger that, unless we get a huge sample size, our results may be overly representive of these particular trace types."
   ]
  },
  {
   "cell_type": "markdown",
   "metadata": {},
   "source": [
    " "
   ]
  },
  {
   "cell_type": "markdown",
   "metadata": {},
   "source": [
    "# Effect of Adaptive Sampling Algorithm on Full Trace Degradation Rate\n",
    "\n",
    "## Motivation\n",
    "\n",
    "The above plots show that the number of complete endpoint traces that an agent is able to obtain is limited by the the path length and input fan-in. The next logical followup question is: how much does the adaptive sampling algorithm matter? \n",
    "\n",
    "## Experiment Setup\n",
    "\n",
    "Same as above, except this time also run the test for an adaptive sampling algorthm that's similar to the one from my other notebook. (the bayesian sampler; for simplicity, we can model it with a normal distribution of mean 10 and standard deviation log(10), which is slightly pessimistic, IMHO. )\n",
    "\n",
    "## Experiment Results"
   ]
  },
  {
   "cell_type": "code",
   "execution_count": 17,
   "metadata": {
    "scrolled": false
   },
   "outputs": [
    {
     "data": {
      "application/vnd.jupyter.widget-view+json": {
       "model_id": "b56ee72d7a9b4cceaa4271cb485efe34",
       "version_major": 2,
       "version_minor": 0
      },
      "text/plain": [
       "Figure(axes=[Axis(color='black', label='Average Trace Length', scale=LinearScale(min=0.0)), Axis(color='black'…"
      ]
     },
     "metadata": {},
     "output_type": "display_data"
    }
   ],
   "source": [
    "%run ss/process_degradation.py\n",
    "\n",
    "plot_comparison_degradation_results(reservoir_size=1000, sampling_target=10)"
   ]
  },
  {
   "cell_type": "markdown",
   "metadata": {},
   "source": [
    " "
   ]
  },
  {
   "cell_type": "markdown",
   "metadata": {},
   "source": [
    "## Conclusions\n",
    "\n",
    "The biggest effect can be seen at lower fan-in, where the more-variable sampled=True count has a bigger effect on how fast the span queue fills up. On the other hand, as fan-in rises, the independent sampled=True counts from each upstream agent add together to trend the overall count towards a normal distribution due to the central limit theorem. Thus, the uniform sampler trends towards the bayesian one.\n",
    "\n",
    "## Unanswered Questions and Concerns\n",
    "\n",
    "The biggest one is how much these results will change when we plug in actual per-minute sample counts into my Adaptive Sampling workbook, and then plug in those results into this experiment."
   ]
  },
  {
   "cell_type": "markdown",
   "metadata": {},
   "source": [
    "  "
   ]
  },
  {
   "cell_type": "markdown",
   "metadata": {},
   "source": [
    "# Trace Compression Ratio\n",
    "\n",
    "## Motivation\n",
    "\n",
    "Some spans in the \"middle\" of a trace are actually redundant, and thus do not actually need to be sent to the backend in order to reconstruct the full trace. That's because if the backend has the id of a span's parent and the ids of the span's children, it can infer the existence of the span itself. Thus, we could potentially choose to not send these particular spans in order to virtually increase our reservoir capacity. Is this worth it? Who knows!\n",
    "\n",
    "## Questions I'm Interested in:\n",
    "\n",
    "1. How much extra virtual reservoir size (or whatever you want to call it) do we get if we go through a bunch of hoopla to compress the span reservoir?\n",
    "\n",
    "## Pruning Visualization:\n",
    "\n",
    "* spans determined to be \"prunable\" are shown with a red background\n",
    "* for the exact algorithm, see the `MockSpan().mark_prunable_spans()` method."
   ]
  },
  {
   "cell_type": "code",
   "execution_count": null,
   "metadata": {},
   "outputs": [],
   "source": [
    "meptx.calculate_importance()\n",
    "meptx.display_graph(display_raw=False, show_importance=False)"
   ]
  },
  {
   "cell_type": "markdown",
   "metadata": {},
   "source": [
    "## Experiment Setup:\n",
    "\n",
    "1. For various trace sizes, generate N random traces\n",
    "2. For each trace, count the non-prunable nodes and calculate the ratio of non-prunable / total\n",
    "3. Calculate the average ratio for each size\n",
    "\n",
    "## Experiment Results:"
   ]
  },
  {
   "cell_type": "code",
   "execution_count": null,
   "metadata": {
    "scrolled": false
   },
   "outputs": [],
   "source": [
    "%run ss/trace_compression.py\n",
    "%run ss/common.py\n",
    "\n",
    "from ss.mockendpoint import MockEndpoint\n",
    "from ss.mocktrace import MockTrace\n",
    "\n",
    "# check which trace sizes\n",
    "trace_length_options = logspace_int(10, 250, 10)\n",
    "\n",
    "# generate multiple different trace shapes per length option\n",
    "trace_variations = 20\n",
    "\n",
    "compression_results = {}\n",
    "for n in trace_length_options:\n",
    "    compression_results[n] = []\n",
    "\n",
    "    for _ in range(0, trace_variations):\n",
    "        mep = MockEndpoint(r, n)\n",
    "        mept = MockTrace(r, mep)\n",
    "        mept.mark_prunable_spans()\n",
    "        \n",
    "        ratio = mept.count_nonprunable_spans() / mept.count_spans()\n",
    "        compression_results[n].append(ratio)\n",
    "\n",
    "r = numpy.random.RandomState()\n",
    "plot_compression_results(trace_length_options, compression_results)"
   ]
  },
  {
   "cell_type": "markdown",
   "metadata": {},
   "source": [
    "## Conclusion\n",
    "\n",
    "Incredibly, the compression ratio is, on average, a seemingly constant value of ~0.83!! I'm really not sure what to make of this unexpected result, given these random traces are generated with highly varied shapes across a wide range of sizes!\n",
    "\n",
    "At any rate, a compression ratio of 0.83 or whatever doesn't seem very big to me. For example, a reservoir of size 1000 only \"virtually enlarges\" to about size 1200. I'm not sure if it's worth doing all the extra hassle for just a 20% boost? Maybe when we move down to shorter harvests?\n",
    "\n"
   ]
  },
  {
   "cell_type": "markdown",
   "metadata": {},
   "source": [
    " "
   ]
  },
  {
   "cell_type": "markdown",
   "metadata": {},
   "source": [
    "# Secondary Sorting Method\n",
    "\n",
    "## Motivation\n",
    "\n",
    "\"Secondary Sorting\" is a feature of the Spans MMF that aims to improve the curation of the spans events sent to the collector. In particular, when a full trace does not fit into the span event reservoir, it needs to be trimmed to fit. It's a complex operation with complex implications that operates on a complex situation in a complex environment. As such, I have no idea how to evaluate it intuitively, which is necesary to both make the best decisions for the python agent as well as give competent feedback on the spec.\n",
    "\n",
    "Span Secondary Sorting is not yet fully defined for v1 of the spec, but it is likely to be included in v2 of the spec. Therefore, we decided to carry out an investigation as part of the spans-v1 MMF.\n",
    "When a full trace does not fit into the reservoir, some of its spans need to discarded. And, since all spans of a trace have the same priority (due to spans inheriting the root's priority, which is assigned via Better-CAT v1), then the kept spans will be chosen on a first-come, first-queued order.\n",
    "\n",
    "The problem here is that this means that if the same trace is clipped every harvest, then the same spans will be chosen to be kept every harvest, and thus a full trace of this endpoint will never be constructed. A potential solution here is adding some randomization to the selection method ensures that a full trace can eventually be pieced together on the backend. However, more randomization also means that information about more important spans (such as datastores or externals) may be rarer and less reliable.\n",
    "\n",
    "There's probably some trade-off to be made between \"time to glass for the full trace\" and \"time to glass for the most important spans\".\n",
    "\n",
    "## Questions I'm Interested in:\n",
    "\n",
    "1. Will secondary-sorting with randomization piece actually together a full trace relatively quickly?\n",
    "2. What sort of trade-off exists between the degree of secondary-sort randomization and how quickly the most important spans are selected? \n",
    "\n",
    "## Importance Scoring Visualization\n",
    "\n",
    "Some spans, such as the root span, external spans, or datastore spans, are more important than others. Other spans, such as meaningless leaves and prunable intermediate spans, are not very important at all. The rest of the spans are somewhere in the middle. In order to sort spans by their relative importance, we have to assign them a score.\n",
    "\n",
    "* as before, red-backgrounded spans are those determined to be prunable\n",
    "* the importance score is what is listed after the span's \"name\"\n",
    "* for the exact algorithm, please see the `MockTrace().calculate_importance` method."
   ]
  },
  {
   "cell_type": "code",
   "execution_count": null,
   "metadata": {},
   "outputs": [],
   "source": [
    "meptx.display_graph(display_raw=False, show_importance=True)"
   ]
  },
  {
   "cell_type": "markdown",
   "metadata": {},
   "source": [
    "## Experiment Setup\n",
    "\n",
    "1. Generate N random endpoints\n",
    "2. For each endpoint, simulate it generating a trace that is clipped. Specifically, assume that some fraction of the trace is kept each harvest.\n",
    "3. Determine the average number of harvests necessary to piece together a.) the most important spans (a \"basic\" trace), b.) the most important spans plus the ones needed to connect them together, (a \"relevant\" trace) and c.) a full trace of the endpoint.\n",
    "\n",
    "## Experiment Results"
   ]
  },
  {
   "cell_type": "code",
   "execution_count": null,
   "metadata": {},
   "outputs": [],
   "source": [
    "%run ss/ss_rate.py\n",
    "\n",
    "# check which trace sizes\n",
    "trace_length_options = logspace_int(10, 250, 10)\n",
    "\n",
    "# generate multiple different trace shapes per length option\n",
    "trace_variations = 20\n",
    "\n",
    "# fraction of trace that fits in the reservoir\n",
    "fraction_captured = linspace_fractions_noninclusive(5)\n",
    "\n",
    "# the maximum number of harvests to try and obtain the full trace,\n",
    "# before the simulation gives up\n",
    "max_harvests = 100\n",
    "\n",
    "r = numpy.random.RandomState()\n",
    "plot_secondary_sort_results(r, trace_length_options, fraction_captured, max_harvests, trace_variations)"
   ]
  },
  {
   "cell_type": "markdown",
   "metadata": {},
   "source": [
    "## Conclusions\n",
    "\n",
    "1. Randomization does in fact seem to help piece together a full trace!\n",
    "2. The most important spans of a trace (the yellow \"basic\" trace) seems to be captured very quickly.\n",
    "3. The time it takes to piece together the \"relevent\" trace is pretty big if only a low percentage of the trace is captured each harvest, but becomes insignifcant at higher percentages. This might be relevent when we move to a shorter harvest.\n",
    "4. Interestingly, increasing randomness decreases the time it takes to piece together the \"relevant\" and \"full\" traces when a low percentage of spans is captured.\n",
    "\n",
    "\n",
    "## Unanswered Questions / Concerns\n",
    "\n",
    "1. The results above are highly dependent on the number of endpoints chosen for the random traces!"
   ]
  },
  {
   "cell_type": "code",
   "execution_count": null,
   "metadata": {},
   "outputs": [],
   "source": []
  }
 ],
 "metadata": {
  "kernelspec": {
   "display_name": "Python 3",
   "language": "python",
   "name": "python3"
  },
  "language_info": {
   "codemirror_mode": {
    "name": "ipython",
    "version": 3
   },
   "file_extension": ".py",
   "mimetype": "text/x-python",
   "name": "python",
   "nbconvert_exporter": "python",
   "pygments_lexer": "ipython3",
   "version": "3.6.4"
  },
  "toc": {
   "base_numbering": 1,
   "nav_menu": {},
   "number_sections": true,
   "sideBar": true,
   "skip_h1_title": false,
   "title_cell": "Table of Contents",
   "title_sidebar": "Contents",
   "toc_cell": false,
   "toc_position": {},
   "toc_section_display": true,
   "toc_window_display": false
  }
 },
 "nbformat": 4,
 "nbformat_minor": 2
}
