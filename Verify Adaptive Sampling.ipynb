{
 "cells": [
  {
   "cell_type": "markdown",
   "metadata": {},
   "source": [
    "## Adaptive Sampling Verification between:\n",
    "\n",
    "* [Ruby's implementation](https://source.datanerd.us/ruby-agent/ruby_agent/blob/dev/lib/new_relic/agent/adaptive_sampler.rb)\n",
    "\n",
    "* [Python's implementation](https://source.datanerd.us/python-agent/python_agent/blob/develop/newrelic/core/adaptive_sampler.py)\n",
    "\n"
   ]
  },
  {
   "cell_type": "code",
   "execution_count": 22,
   "metadata": {},
   "outputs": [],
   "source": [
    "class BaseAgent(object):\n",
    "    def __init__(self, last_transaction_count):\n",
    "        self.sampled_count = 0\n",
    "        self.max_sampled = 20\n",
    "        self.sampling_target = 10\n",
    "        self.max_ratio = 0.5\n",
    "        self.transaction_count = last_transaction_count\n",
    "        \n",
    "    def intake_event(self, random_number):\n",
    "        if self.sample(random_number):\n",
    "            self.sampled_count += 1\n",
    "            \n",
    "    def sample(self, random_number):\n",
    "        return False"
   ]
  },
  {
   "cell_type": "code",
   "execution_count": 23,
   "metadata": {},
   "outputs": [],
   "source": [
    "class PythonAgent(BaseAgent):\n",
    "    def __init__(self, last_transaction_count):\n",
    "        super(PythonAgent, self).__init__(last_transaction_count)\n",
    "        self.min_sampling_priority = 1 - self.sampling_target / last_transaction_count\n",
    "    \n",
    "    def sample(self, random_number):\n",
    "        return self.compute_sampled(1 - random_number)\n",
    "    \n",
    "    def compute_sampled(self, priority):\n",
    "        if self.sampled_count >= self.max_sampled:\n",
    "            return False\n",
    "\n",
    "        elif priority >= self.min_sampling_priority:\n",
    "            self.sampled_count += 1\n",
    "\n",
    "            # Determine if a backoff is required and compute it\n",
    "            target = self.sampling_target\n",
    "            if self.sampled_count > target:\n",
    "                ratio = target / float(self.sampled_count)\n",
    "                target = target ** ratio - target ** self.max_ratio\n",
    "                target = max(0.0, target)\n",
    "\n",
    "                self._update_min_priority(target)\n",
    "            return True\n",
    "\n",
    "        return False\n",
    "        \n",
    "    def _update_min_priority(self, target):\n",
    "        if self.transaction_count > target:\n",
    "            sampling_ratio = float(target) / self.transaction_count\n",
    "            self.min_sampling_priority = 1.0 - sampling_ratio\n",
    "        else:\n",
    "            self.min_sampling_priority = 0.0"
   ]
  },
  {
   "cell_type": "code",
   "execution_count": 24,
   "metadata": {},
   "outputs": [],
   "source": [
    "class RubyAgent(BaseAgent):\n",
    "    def sample(self, random_number):\n",
    "        return self.compute_sampled(self.transaction_count * random_number)\n",
    "    \n",
    "    def compute_sampled(self, random_number):\n",
    "        target = self.sampling_target\n",
    "        if self.sampled_count < target:\n",
    "            return (random_number < target)\n",
    "        else:\n",
    "            ratio = target / self.sampled_count\n",
    "            return random_number < (target ** ratio - target ** self.max_ratio)\n",
    "        return False"
   ]
  },
  {
   "cell_type": "code",
   "execution_count": 27,
   "metadata": {},
   "outputs": [],
   "source": [
    "import random\n",
    "\n",
    "for throughput in [100, 200, 500, 1000, 2000, 20000, 200000]:\n",
    "    p = PythonAgent(throughput)\n",
    "    r = RubyAgent(throughput)\n",
    "    \n",
    "    for _ in range(throughput):\n",
    "        rn = random.random()\n",
    "        if p.intake_event(rn) != r.intake_event(rn):\n",
    "            raise Exception(\"Error: agents do not match for throughput %d and input %f\" % (throughput, rn))"
   ]
  },
  {
   "cell_type": "markdown",
   "metadata": {},
   "source": [
    "If no exceptions are thrown, we're golden!"
   ]
  }
 ],
 "metadata": {
  "kernelspec": {
   "display_name": "Python 3",
   "language": "python",
   "name": "python3"
  },
  "language_info": {
   "codemirror_mode": {
    "name": "ipython",
    "version": 3
   },
   "file_extension": ".py",
   "mimetype": "text/x-python",
   "name": "python",
   "nbconvert_exporter": "python",
   "pygments_lexer": "ipython3",
   "version": "3.6.4"
  },
  "toc": {
   "base_numbering": 1,
   "nav_menu": {},
   "number_sections": true,
   "sideBar": true,
   "skip_h1_title": false,
   "title_cell": "Table of Contents",
   "title_sidebar": "Contents",
   "toc_cell": false,
   "toc_position": {},
   "toc_section_display": true,
   "toc_window_display": false
  }
 },
 "nbformat": 4,
 "nbformat_minor": 2
}
