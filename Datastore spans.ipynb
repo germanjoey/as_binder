{
 "cells": [
  {
   "cell_type": "code",
   "execution_count": 64,
   "metadata": {},
   "outputs": [
    {
     "name": "stdout",
     "output_type": "stream",
     "text": [
      "36.1480591373 17.5539767096\n"
     ]
    },
    {
     "data": {
      "text/plain": [
       "[<matplotlib.lines.Line2D at 0x1a2148e400>]"
      ]
     },
     "execution_count": 64,
     "metadata": {},
     "output_type": "execute_result"
    },
    {
     "data": {
      "image/png": "[encoded data removed]",
      "text/plain": [
       "<matplotlib.figure.Figure at 0x1a21881a90>"
      ]
     },
     "metadata": {},
     "output_type": "display_data"
    }
   ],
   "source": [
    "import numpy\n",
    "\n",
    "fig, ax = plt.subplots(1, 1)\n",
    "\n",
    "s = []\n",
    "for i in range (0, 100000):\n",
    "    x = numpy.random.uniform(0.0, 1.0)\n",
    "    if x > 0.95:\n",
    "        s.append(numpy.random.normal(loc=1, scale=0.1))\n",
    "    else:\n",
    "        s.append(numpy.random.normal(loc=38, scale=16))\n",
    "    \n",
    "\n",
    "print(numpy.mean(s), numpy.std(s))\n",
    "\n",
    "n = norm(loc=1, scale=0.1)\n",
    "x = numpy.linspace(n.ppf(0.01), n.ppf(0.99), 100)\n",
    "ax.plot(x, n.pdf(x), 'r-', lw=5, alpha=0.6, label='norm pdf')"
   ]
  },
  {
   "cell_type": "code",
   "execution_count": null,
   "metadata": {},
   "outputs": [],
   "source": []
  }
 ],
 "metadata": {
  "kernelspec": {
   "display_name": "Python 3",
   "language": "python",
   "name": "python3"
  },
  "language_info": {
   "codemirror_mode": {
    "name": "ipython",
    "version": 3
   },
   "file_extension": ".py",
   "mimetype": "text/x-python",
   "name": "python",
   "nbconvert_exporter": "python",
   "pygments_lexer": "ipython3",
   "version": "3.6.4"
  },
  "toc": {
   "base_numbering": 1,
   "nav_menu": {},
   "number_sections": true,
   "sideBar": true,
   "skip_h1_title": false,
   "title_cell": "Table of Contents",
   "title_sidebar": "Contents",
   "toc_cell": false,
   "toc_position": {},
   "toc_section_display": true,
   "toc_window_display": false
  }
 },
 "nbformat": 4,
 "nbformat_minor": 2
}
