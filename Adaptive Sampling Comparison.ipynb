{
 "cells": [
  {
   "cell_type": "markdown",
   "metadata": {},
   "source": [
    "#### Note:\n",
    "This is a Jupyter Notebook, which means all code sections are actually executed live. Please select \"Cell -> Run All\" before reading for the first time to generate the plots/widgets.\n",
    "\n",
    "#### Note:\n",
    "Some raw code for this IPython notebook is hidden by default for easier reading. If you want to see it, clicking on the toggle buttons will allow you to read and edit it."
   ]
  },
  {
   "cell_type": "code",
   "execution_count": 1,
   "metadata": {},
   "outputs": [
    {
     "data": {
      "text/html": [
       "\n",
       "        <script>\n",
       "        var others0 = [0, 1, 2];\n",
       "        var code_shown0 = true; \n",
       "        function code_toggle0 () {\n",
       "            var selector = \"div.input\";\n",
       "            var inputs = $(selector).toArray();\n",
       "            if (code_shown0) {\n",
       "                for (var i in others0) {\n",
       "                    var x = others0[i];\n",
       "                    $(inputs[x]).hide();\n",
       "                }\n",
       "            }\n",
       "            else {\n",
       "                for (var i in others0) {\n",
       "                    var x = others0[i];\n",
       "                    $(inputs[x]).show();\n",
       "                }\n",
       "            }\n",
       "\n",
       "            code_shown0 = !code_shown0;\n",
       "        } \n",
       "        $( document ).ready(code_toggle0);\n",
       "        </script>\n",
       "        <form action=\"javascript:code_toggle0()\">\n",
       "        <input type=\"submit\" value=\"Toggle on/off the display of the document setup code.\">\n",
       "        </form>"
      ],
      "text/plain": [
       "<IPython.core.display.HTML object>"
      ]
     },
     "execution_count": 1,
     "metadata": {},
     "output_type": "execute_result"
    }
   ],
   "source": [
    "from IPython.display import HTML\n",
    "\n",
    "# function to create those toggle buttons, adapted from something from stackoverflow\n",
    "def add_toggle_button(desc, *inputs):\n",
    "    x = ', '.join([str(x) for x in inputs])\n",
    "    n = str(inputs[0])\n",
    "    code = '''\n",
    "        <script>\n",
    "        var others%n = [%x];\n",
    "        var code_shown%n = true; \n",
    "        function code_toggle%n () {\n",
    "            var selector = \"div.input\";\n",
    "            var inputs = $(selector).toArray();\n",
    "            if (code_shown%n) {\n",
    "                for (var i in others%n) {\n",
    "                    var x = others%n[i];\n",
    "                    $(inputs[x]).hide();\n",
    "                }\n",
    "            }\n",
    "            else {\n",
    "                for (var i in others%n) {\n",
    "                    var x = others%n[i];\n",
    "                    $(inputs[x]).show();\n",
    "                }\n",
    "            }\n",
    "\n",
    "            code_shown%n = !code_shown%n;\n",
    "        } \n",
    "        $( document ).ready(code_toggle%n);\n",
    "        </script>\n",
    "        <form action=\"javascript:code_toggle%n()\">\n",
    "        <input type=\"submit\" value=\"Toggle on/off the display of the %d code.\">\n",
    "        </form>'''\n",
    "    \n",
    "    return code.replace('%d', desc).replace('%n', str(n)).replace('%x', x)\n",
    "\n",
    "HTML(add_toggle_button('document setup', 0, 1, 2))"
   ]
  },
  {
   "cell_type": "code",
   "execution_count": 2,
   "metadata": {},
   "outputs": [
    {
     "data": {
      "text/html": [
       "<style>\n",
       "/* prevent truncation of the slider labels */\n",
       ".widget-label, .widget-button { width: unset !important; }\n",
       "</style>"
      ],
      "text/plain": [
       "<IPython.core.display.HTML object>"
      ]
     },
     "metadata": {},
     "output_type": "display_data"
    }
   ],
   "source": [
    "%%html\n",
    "<style>\n",
    "/* prevent truncation of the slider labels */\n",
    ".widget-label, .widget-button { width: unset !important; }\n",
    "</style>"
   ]
  },
  {
   "cell_type": "code",
   "execution_count": 3,
   "metadata": {},
   "outputs": [],
   "source": [
    "import numpy\n",
    "from bqplot import LinearScale, Axis, Lines, Figure, Hist, Bars, Scatter\n",
    "from ipywidgets import HBox, VBox, SelectionSlider, Button"
   ]
  },
  {
   "cell_type": "markdown",
   "metadata": {},
   "source": [
    "# Investigation into Adaptive Sampling\n",
    "\n",
    "This notebook contains some simulations I created to investigate the performance of the Better CAT v1 adaptive sampling algorithm. \n",
    "\n",
    "To start with, I gathered some data from a random customer on the number of transaction events they were generating for a random 24 hour period. (well, the customer wasn't selected truly at random, it was just the APM link from the last support ticket I had worked on.)\n",
    "\n",
    "`te_per_hour` is the data I came up with:"
   ]
  },
  {
   "cell_type": "code",
   "execution_count": 4,
   "metadata": {},
   "outputs": [],
   "source": [
    "# APM data for the Python/RequestSampler/requests metric,\n",
    "# which describes the number of transaction events seen in\n",
    "# a given harvest. It is lumped into per-hour counts when\n",
    "# inspected in APM. So te_per_hour[0] is from midnight to\n",
    "# 1:00am, te_per_hour[1] is 1:00am to 2:00am, etc.\n",
    "\n",
    "te_per_hour = [\n",
    "    294, 254, 325, 516, 886, 3022,\n",
    "    10109, 16507, 22262, 24752, 26362, 25034,\n",
    "    27172, 27208, 26751, 20724, 14936, 10160,\n",
    "    5808, 3053, 1397, 571, 152, 351\n",
    "]\n",
    "\n",
    "initial_harvester = 'Per-Spec'\n",
    "\n",
    "# baseline samples-per-harvest, which is set to \"10\" in the agent spec\n",
    "baseline_sph = 10 \n",
    "\n",
    "# the sampling period\n",
    "initial_hpm = 60\n",
    "\n",
    "initial_seed = 1234567\n",
    "red_height = 500.0"
   ]
  },
  {
   "cell_type": "markdown",
   "metadata": {},
   "source": [
    "Next, I implement a Mock Agent to run a simulation of adaptive sampling, which will simply be to cram our customer data through a loop that calls adaptively_sample() on each transaction event.\n",
    "\n",
    "Unfortunately, since APM only gives lump-sum per-hour data, we don't know when each individual transaction event actually occurs. To get around this problem, I will use inverse transform sampling (ITS) to \"generate\" the finer-grained data that we need. To do that, I need to have a prospective model for the distribution of the number of transaction events that will happen in a given period of time. And, although the number of transactions per hour varies greatly throughout the day (low at night, high during the day), I think it is reasonable to estimate that they'll occur relatively uniformly *within* a given hour. Thus, we can model these counts with the [Poisson distribution](https://en.wikipedia.org/wiki/Poisson_distribution), and the timesteps between each event with the [Exponential distribution](https://en.wikipedia.org/wiki/Exponential_distribution). \n",
    "\n",
    "After our data is set up, implementing the rest of the mock harvester is relatively simple: we'll just loop through each harvest and call adaptively_sample() on each transaction event. (We'll also add some extra instrumentation later so that we can toggle our plot with sliders.)"
   ]
  },
  {
   "cell_type": "code",
   "execution_count": 5,
   "metadata": {},
   "outputs": [
    {
     "data": {
      "text/html": [
       "\n",
       "        <script>\n",
       "        var others4 = [4, 7];\n",
       "        var code_shown4 = true; \n",
       "        function code_toggle4 () {\n",
       "            var selector = \"div.input\";\n",
       "            var inputs = $(selector).toArray();\n",
       "            if (code_shown4) {\n",
       "                for (var i in others4) {\n",
       "                    var x = others4[i];\n",
       "                    $(inputs[x]).hide();\n",
       "                }\n",
       "            }\n",
       "            else {\n",
       "                for (var i in others4) {\n",
       "                    var x = others4[i];\n",
       "                    $(inputs[x]).show();\n",
       "                }\n",
       "            }\n",
       "\n",
       "            code_shown4 = !code_shown4;\n",
       "        } \n",
       "        $( document ).ready(code_toggle4);\n",
       "        </script>\n",
       "        <form action=\"javascript:code_toggle4()\">\n",
       "        <input type=\"submit\" value=\"Toggle on/off the display of the simulation code.\">\n",
       "        </form>"
      ],
      "text/plain": [
       "<IPython.core.display.HTML object>"
      ]
     },
     "execution_count": 5,
     "metadata": {},
     "output_type": "execute_result"
    }
   ],
   "source": [
    "class Harvester(object):\n",
    "    def __init__(self, seed, target_samples_per_harvest, harvests_per_hour):\n",
    "        # the delta-timestep for each next sample after the previous one\n",
    "        self.timesteps_per_sample = []\n",
    "        \n",
    "        # how many total transaction events that occur per harvest\n",
    "        self.te_per_harvest = []\n",
    "        \n",
    "        # an array that will contain the number of sampled=True for each harvest in the day\n",
    "        self.num_sampled = []\n",
    "        \n",
    "        self.xdata = []\n",
    "        \n",
    "        # downsampled version of the data, for faster plot rendering\n",
    "        self.xdata_ds = []\n",
    "        self.sph_ds = []\n",
    "\n",
    "        self.seed = seed\n",
    "        self.target_samples_per_harvest = target_samples_per_harvest\n",
    "        self.harvests_per_hour = harvests_per_hour\n",
    "        \n",
    "        self.current_timestamp = 0\n",
    "        self.rand = numpy.random.RandomState(self.seed)\n",
    "        \n",
    "    # prep data performs a 2-layered inverse-transform data on the sampled data set\n",
    "    def prep_data(self, te_per_hour):\n",
    "        for h in range(0, len(te_per_hour)):\n",
    "            \n",
    "            # first layer: assume that within a given hour the number of samples per harvest\n",
    "            #              will be distributed according to a Poisson distribution. Therefore,\n",
    "            #              we can inverse-sample them via the exponential distribution.\n",
    "            sh = te_per_hour[h]\n",
    "            raw_sph = self.rand.exponential(sh/self.harvests_per_hour, self.harvests_per_hour)\n",
    "            sph = numpy.rint(raw_sph*(sh/sum(raw_sph)))\n",
    "            self.te_per_harvest = numpy.append(self.te_per_harvest, sph)\n",
    "\n",
    "            timesteps = []\n",
    "            for v in range(0, self.harvests_per_hour):\n",
    "                # format x as \"HOUR.FRACTIONOFHOUR\"\n",
    "                # x is gonna be a point for our plot of samples over time, so\n",
    "                # we don't need it to have a precise value. \n",
    "                xpoint = h + float(v)/float(self.harvests_per_hour)\n",
    "                self.xdata.append(xpoint)\n",
    "                \n",
    "                shh = sph[v]\n",
    "                if shh == 0:\n",
    "                    self.timesteps_per_sample.append([])\n",
    "                else:\n",
    "                    # second layer: assume that the number of samples per harvest is\n",
    "                    #               *also* be a Poisson distribution, meaning that for a\n",
    "                    #               given N, we can inversely sample according to the \n",
    "                    #               exponential distribution again in order to find an \n",
    "                    #               estimated timestamp for every sample for the entire day.\n",
    "                    #               \n",
    "                    raw_sps = self.rand.exponential(self.harvests_per_hour/shh, int(shh))\n",
    "                    sps = raw_sps*(sum(raw_sps)/shh)\n",
    "                    self.timesteps_per_sample.append(sps)\n",
    "\n",
    "        # finally, downsample our data to just 10 harvests per minute for the plot, so that\n",
    "        # our sliders won't be really clunky\n",
    "        ds_factor = int(len(self.te_per_harvest)/240.0)\n",
    "        for i in range(0, 240):\n",
    "            self.xdata_ds.append(self.xdata[ds_factor*i])\n",
    "            self.sph_ds.append(self.te_per_harvest[ds_factor*i])\n",
    "\n",
    "    def simulate(self):\n",
    "        for i in range(len(self.te_per_harvest)):\n",
    "            self.harvest(i)\n",
    "\n",
    "    # perform a single harvest, counting the number of transaction events\n",
    "    # are assigned sampled=True\n",
    "    def harvest(self, i):\n",
    "        samples = self.timesteps_per_sample[i]\n",
    "\n",
    "        last_harvest_count = -1\n",
    "        if i > 0:\n",
    "            last_harvest_count = int(self.te_per_harvest[i-1])\n",
    "\n",
    "        sampled_count = 0\n",
    "        for timestep in samples:\n",
    "            self.current_timestamp += timestep\n",
    "\n",
    "            # note: the spec states that we should stop sampling once we hit\n",
    "            #       2*self.target_samples_per_harvest\n",
    "            if sampled_count < 2*self.target_samples_per_harvest:\n",
    "                sampled_count += int(self.adaptively_sample(self.current_timestamp, last_harvest_count))\n",
    "\n",
    "        self.num_sampled.append(sampled_count)\n",
    "\n",
    "    # API: returns \"True\" if we should set Sampled=True, \"False\" otherwise\n",
    "    def adaptively_sample(self, timestamp, last_harvest_count):\n",
    "        raise NotImplementedError('IMPLEMENT THIS, YA NUMBSKULL!')\n",
    "        \n",
    "HTML(add_toggle_button('simulation', 4, 7))"
   ]
  },
  {
   "cell_type": "markdown",
   "metadata": {},
   "source": [
    "Next, we'll create a couple subclasses of our Harvester to implement various adaptive sampling algorithms. We'll do a base case, that just randomly assigns Sampled=True, and then another that implements the adaptive sampling algorithm in the spec."
   ]
  },
  {
   "cell_type": "code",
   "execution_count": 6,
   "metadata": {},
   "outputs": [],
   "source": [
    "class RandomHarvester(Harvester):\n",
    "    def adaptively_sample(self, timestamp, last_harvest_count):\n",
    "        if last_harvest_count == -1:\n",
    "            return False\n",
    "        \n",
    "        if self.rand.uniform(1) > 0.5:\n",
    "            return True\n",
    "        \n",
    "        return False"
   ]
  },
  {
   "cell_type": "code",
   "execution_count": 7,
   "metadata": {},
   "outputs": [],
   "source": [
    "class SpecHarvester(Harvester):\n",
    "    def adaptively_sample(self, timestamp, last_harvest_count):\n",
    "        if last_harvest_count == -1:\n",
    "            return False\n",
    "\n",
    "        if self.rand.uniform(last_harvest_count) < self.target_samples_per_harvest:\n",
    "            return True\n",
    "\n",
    "        return False"
   ]
  },
  {
   "cell_type": "code",
   "execution_count": 8,
   "metadata": {},
   "outputs": [],
   "source": [
    "harvester_classes = {\n",
    "    'Per-Spec': SpecHarvester,\n",
    "    'Random': RandomHarvester\n",
    "}\n",
    "\n",
    "# some orchestration around the harvester to allow us to try out various parameters, and then\n",
    "# cache the results so that the sliders won't be slow due to recalculating the plot every damn time\n",
    "current_harvester = None\n",
    "tas_cache = {}\n",
    "def test_adaptive_sampling(class_name, seed, target_samples_per_harvest, harvests_per_hour):\n",
    "    global current_harvester\n",
    "    global tas_cache\n",
    "    \n",
    "    cls = harvester_classes[class_name]\n",
    "    tag = \"%s/%s/%s\" % (cls.__name__, seed, harvests_per_hour)\n",
    "    \n",
    "    if tag in tas_cache:\n",
    "        harvester = tas_cache[tag]\n",
    "    else:\n",
    "        harvester = cls(seed, target_samples_per_harvest, harvests_per_hour)\n",
    "        harvester.prep_data(te_per_hour)\n",
    "        harvester.simulate()\n",
    "        tas_cache[tag] = harvester\n",
    "    \n",
    "    current_harvester = harvester\n",
    "    return harvester\n",
    "\n",
    "\n",
    "def cond_sum(harvester, ns):\n",
    "    a = numpy.array(harvester.num_sampled)\n",
    "    return numpy.sum([numpy.sum(a==n) for n in ns])\n",
    "\n",
    "def count_output(harvester):\n",
    "    total_sum = numpy.sum(harvester.num_sampled)\n",
    "    diff_from_middle = harvester.target_samples_per_harvest//2\n",
    "    rl = harvester.target_samples_per_harvest - diff_from_middle\n",
    "    rh = harvester.target_samples_per_harvest + diff_from_middle\n",
    "    \n",
    "    middle_ratio = cond_sum(harvester, range(rl, rh))\n",
    "    middle_percentage = 100.0*middle_ratio/total_sum\n",
    "    \n",
    "    end_tag = 2*int(harvester.target_samples_per_harvest)\n",
    "    if diff_from_middle == 1:\n",
    "        outside_range_str = \"(0 or %d)\" % end_tag\n",
    "    else:\n",
    "        outside_range_str = \"(0-%d, %d-%d)\" % (rl-1, rh+1, end_tag)\n",
    "        \n",
    "    \n",
    "    print(\"For the simulation:\\n\"\n",
    "          \"    sampler: %s\\n\"\n",
    "          \"    harvests per hour: %d\\n\"\n",
    "          \"    targeted samples per_hour: %d\\n\"\n",
    "          \"    random seed: %d\\n\"\n",
    "          \"results in the percentage of samples with sampled=True:\\n\"\n",
    "          \"    near the expected result (%d-%d): %5.2f%%\\n\"\n",
    "          \"    away from the expected result %s: %5.2f%%\\n\" % (\n",
    "          harvester.__class__.__name__,\n",
    "          int(harvester.harvests_per_hour),\n",
    "          int(harvester.target_samples_per_harvest),\n",
    "          harvester.seed, \n",
    "          rl, rh, middle_percentage,\n",
    "          outside_range_str, 100.0-middle_percentage)\n",
    "     )\n"
   ]
  },
  {
   "cell_type": "markdown",
   "metadata": {},
   "source": [
    "Finally, we'll add some sliders and plot the result. On the left is a view of what our ITS data looks like (although note that it is downsampled somewhat so that the plots appear faster), while on the right is a histogram of transaction_events that were selected to have Sampled=True over the course of the 24 hour period.\n",
    "\n",
    "Note: you can adjust the sliders to try out different paramters."
   ]
  },
  {
   "cell_type": "code",
   "execution_count": 9,
   "metadata": {
    "scrolled": false
   },
   "outputs": [
    {
     "data": {
      "text/html": [
       "\n",
       "        <script>\n",
       "        var others8 = [8, 9, 10];\n",
       "        var code_shown8 = true; \n",
       "        function code_toggle8 () {\n",
       "            var selector = \"div.input\";\n",
       "            var inputs = $(selector).toArray();\n",
       "            if (code_shown8) {\n",
       "                for (var i in others8) {\n",
       "                    var x = others8[i];\n",
       "                    $(inputs[x]).hide();\n",
       "                }\n",
       "            }\n",
       "            else {\n",
       "                for (var i in others8) {\n",
       "                    var x = others8[i];\n",
       "                    $(inputs[x]).show();\n",
       "                }\n",
       "            }\n",
       "\n",
       "            code_shown8 = !code_shown8;\n",
       "        } \n",
       "        $( document ).ready(code_toggle8);\n",
       "        </script>\n",
       "        <form action=\"javascript:code_toggle8()\">\n",
       "        <input type=\"submit\" value=\"Toggle on/off the display of the plotting code.\">\n",
       "        </form>"
      ],
      "text/plain": [
       "<IPython.core.display.HTML object>"
      ]
     },
     "execution_count": 9,
     "metadata": {},
     "output_type": "execute_result"
    }
   ],
   "source": [
    "initial_data = test_adaptive_sampling(initial_harvester, initial_seed, baseline_sph, initial_hpm)\n",
    "\n",
    "# first set up our scales and axes\n",
    "bx_sc = LinearScale()\n",
    "by_sc = LinearScale()\n",
    "bax_x = Axis(label='Time of Occurence (hour)', scale=bx_sc, grid_lines='solid')\n",
    "bax_y = Axis(label='Transaction Event Count (per harvest)', scale=by_sc, orientation='vertical', side='left', grid_lines='solid')\n",
    "\n",
    "hx_sc = LinearScale()\n",
    "hy_sc = LinearScale()\n",
    "hax_x = Axis(label='\"sampled=True\" count (per harvest)', scale=hx_sc, grid_lines='solid')\n",
    "hax_y = Axis(label='Number of Occurrences', scale=hy_sc, orientation='vertical', side='left', grid_lines='solid')\n",
    "\n",
    "# cache-busting button\n",
    "cache_button = Button(\n",
    "    description='Click to clear the plotting cache.',\n",
    "    disabled=False,\n",
    "    button_style='',\n",
    "    tooltip='Click to clear the plot-cache.'\n",
    ")\n",
    "\n",
    "# input sliders\n",
    "ss = SelectionSlider(\n",
    "    options=['Random', 'Per-Spec'],\n",
    "    value='Per-Spec',\n",
    "    description='Sampling Algorithm',\n",
    ")\n",
    "\n",
    "rss = SelectionSlider(\n",
    "    options=[1234567, 23523465, 57433462],\n",
    "    value=initial_seed,\n",
    "    description='Random Seed',\n",
    ")\n",
    "\n",
    "hphs = SelectionSlider(\n",
    "    options=[30, 60, 120, 240],\n",
    "    value=initial_hpm,\n",
    "    description='Harvests Per Hour',\n",
    ")\n",
    "\n",
    "# input scatter plot\n",
    "te_scatter = Scatter(\n",
    "    x=initial_data.xdata_ds,\n",
    "    y=initial_data.sph_ds,\n",
    "    scales={'x': bx_sc, 'y': by_sc},\n",
    "    visible=True)\n",
    "\n",
    "# histogram for the count of the number of sampled=True payloads\n",
    "samples_hist = Hist(\n",
    "    sample=initial_data.num_sampled,\n",
    "    scales={'sample': hx_sc, 'count': hy_sc},\n",
    "    bins=20)\n",
    "\n",
    "# red bar in the middle of the samples plot\n",
    "red_line = Lines(\n",
    "    x=[baseline_sph-0.5, baseline_sph-0.5, baseline_sph+0.5, baseline_sph+0.5],\n",
    "    y=[0, red_height, red_height, 0],\n",
    "    colors=['red'],\n",
    "    fill='inside',\n",
    "    scales={'x': hx_sc, 'y': hy_sc})\n",
    "\n",
    "# hookup the cache-buster\n",
    "def bust_cache(button):\n",
    "    tas_cache = {}\n",
    "cache_button.observe(cache_button, names='value')\n",
    "\n",
    "HTML(add_toggle_button('plotting', 8, 9, 10))"
   ]
  },
  {
   "cell_type": "code",
   "execution_count": 10,
   "metadata": {},
   "outputs": [],
   "source": [
    "def update_plots(slider):\n",
    "    class_name = ss.value\n",
    "    random_seed = rss.value\n",
    "    harvests_per_hour = hphs.value\n",
    "    \n",
    "    factor = 60.0/harvests_per_hour\n",
    "    target_samples_per_harvest = int(baseline_sph*factor)\n",
    "    \n",
    "    harvester = test_adaptive_sampling(\n",
    "        class_name, random_seed,\n",
    "        target_samples_per_harvest, harvests_per_hour\n",
    "    )\n",
    "    \n",
    "    te_scatter.x = harvester.xdata_ds\n",
    "    te_scatter.y = harvester.sph_ds\n",
    "    \n",
    "    hax_x.tick_values = range(0, 2*target_samples_per_harvest+1)\n",
    "    samples_hist.bins = 2*target_samples_per_harvest\n",
    "    samples_hist.sample = harvester.num_sampled\n",
    "    \n",
    "    l = target_samples_per_harvest - 0.5\n",
    "    h = target_samples_per_harvest + 0.5\n",
    "    red_line.x = [l, l, h, h]\n",
    "    red_line.y = [0, red_height/factor, red_height/factor, 0]\n",
    "    count_output(harvester)\n",
    "    \n",
    "ss.observe(update_plots, names='value')\n",
    "rss.observe(update_plots, names='value')\n",
    "hphs.observe(update_plots, names='value')"
   ]
  },
  {
   "cell_type": "code",
   "execution_count": 11,
   "metadata": {},
   "outputs": [
    {
     "data": {
      "application/vnd.jupyter.widget-view+json": {
       "model_id": "9a6586f91dc144ee9c7cfe30f27657df",
       "version_major": 2,
       "version_minor": 0
      },
      "text/plain": [
       "VBox(children=(HBox(children=(Button(description='Click to clear the plotting cache.', style=ButtonStyle(), to…"
      ]
     },
     "metadata": {},
     "output_type": "display_data"
    },
    {
     "name": "stdout",
     "output_type": "stream",
     "text": [
      "For the simulation:\n",
      "    sampler: SpecHarvester\n",
      "    harvests per hour: 60\n",
      "    targeted samples per_hour: 10\n",
      "    random seed: 1234567\n",
      "results in the percentage of samples with sampled=True:\n",
      "    near the expected result (5-15):  3.31%\n",
      "    away from the expected result (0-4, 16-20): 96.69%\n",
      "\n"
     ]
    }
   ],
   "source": [
    "fig_bar = Figure(marks=[te_scatter], axes=[bax_x, bax_y], title='Transaction Events Per Harvest')\n",
    "fig_hist = Figure(marks=[samples_hist, red_line], axes=[hax_x, hax_y], title='Super-Samples per Harvest')\n",
    "\n",
    "display(VBox([HBox([cache_button, ss]), HBox([hphs, rss]), HBox([fig_bar, fig_hist])]))\n",
    "count_output(initial_data)"
   ]
  },
  {
   "cell_type": "markdown",
   "metadata": {},
   "source": [
    "My interpretation of this result is that if purpose of the Better CAT adaptive sampling algorithm is to ensure that we approximately mark a certain number of sampled=True payloads per harvest, then it doesn't really work as expected. For example, when harvesting once a minute (i.e. 60 times an hour) and targeting 10 samples per harvest, the sampler implemented according to the spec only assigns between 5 and 15 payloads as Sampled=True per harvest only 3.31% of the time! The rest of the time, it will be near the min and the max possibilities: 0 or 20.\n",
    "\n",
    "My suspicion is that this is because the rate of throughput for the customer data is not constant. If our throughput *was* constant for the entire 24 hour period, then we would expect that roughly half of the harvests would end up with between 5 and 15 sampled=True payloads, which is a pretty good result. However, a more realistic workload will vary across time. Thus, if a given harvest has a high throughput, and the next harvest has a much lower one, then basing our sample rate on the previous harvest's throughput means that it is likely that we will oversample it. Likewise, if a given harvest has a low throughput, and the next one ends up with a high throughput, then it is likely that we will undersample it. This results in the U-shaped graph shown above."
   ]
  }
 ],
 "metadata": {
  "kernelspec": {
   "display_name": "Python 3",
   "language": "python",
   "name": "python3"
  },
  "language_info": {
   "codemirror_mode": {
    "name": "ipython",
    "version": 3
   },
   "file_extension": ".py",
   "mimetype": "text/x-python",
   "name": "python",
   "nbconvert_exporter": "python",
   "pygments_lexer": "ipython3",
   "version": "3.6.4"
  }
 },
 "nbformat": 4,
 "nbformat_minor": 2
}
