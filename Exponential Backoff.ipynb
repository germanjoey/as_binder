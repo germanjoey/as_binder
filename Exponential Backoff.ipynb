{
 "cells": [
  {
   "cell_type": "code",
   "execution_count": 1,
   "metadata": {
    "scrolled": true
   },
   "outputs": [],
   "source": [
    "from bqplot import LinearScale, OrdinalColorScale, ColorAxis, Axis, Lines, Figure\n",
    "from ipywidgets import HBox, VBox, SelectionSlider, jslink, jsdlink, Layout, IntText"
   ]
  },
  {
   "cell_type": "code",
   "execution_count": 2,
   "metadata": {
    "scrolled": true
   },
   "outputs": [
    {
     "data": {
      "text/html": [
       "<style>\n",
       "    /* prevent truncation of the slider labels */\n",
       "    .widget-label, .widget-button, .jupyter-button, .widget-readout {\n",
       "        width: unset !important;\n",
       "        min-width: fit-content !important;\n",
       "    }\n",
       "\n",
       "    .widget-label {\n",
       "        font-weight: bolder;\n",
       "    }\n",
       "</style>"
      ],
      "text/plain": [
       "<IPython.core.display.HTML object>"
      ]
     },
     "metadata": {},
     "output_type": "display_data"
    }
   ],
   "source": [
    "%%html\n",
    "<style>\n",
    "    /* prevent truncation of the slider labels */\n",
    "    .widget-label, .widget-button, .jupyter-button, .widget-readout {\n",
    "        width: unset !important;\n",
    "        min-width: fit-content !important;\n",
    "    }\n",
    "\n",
    "    .widget-label {\n",
    "        font-weight: bolder;\n",
    "    }\n",
    "</style>"
   ]
  },
  {
   "cell_type": "code",
   "execution_count": 3,
   "metadata": {
    "scrolled": true
   },
   "outputs": [],
   "source": [
    "sampling_target = 10\n",
    "initial_last_harvest_count = 100\n",
    "sampledTrue_counts = range(0, 21)"
   ]
  },
  {
   "cell_type": "code",
   "execution_count": 4,
   "metadata": {
    "scrolled": true
   },
   "outputs": [],
   "source": [
    "def calculate_exponential_backoff(previous_harvest_count):\n",
    "    results = {\n",
    "        'targets': [],\n",
    "        'min_priorities': [],\n",
    "        'probabilities': []\n",
    "    }\n",
    "\n",
    "    for sampledTrue_count in sampledTrue_counts:\n",
    "        target = sampling_target\n",
    "\n",
    "        if sampledTrue_count > target:\n",
    "            ratio = target / sampledTrue_count\n",
    "\n",
    "            # the \"exponential\" from the name - and note that this is Ruby's implementation!\n",
    "            target = target ** ratio - target ** 0.5\n",
    "\n",
    "        probability = target / max(sampling_target, previous_harvest_count)\n",
    "\n",
    "        results['targets'].append(target)\n",
    "        results['probabilities'].append(probability)\n",
    "        results['min_priorities'].append(1.0 - probability)\n",
    "        \n",
    "    return results"
   ]
  },
  {
   "cell_type": "code",
   "execution_count": 5,
   "metadata": {
    "scrolled": true
   },
   "outputs": [],
   "source": [
    "x_sc = LinearScale(min=0, max=20)\n",
    "ny_sc = LinearScale(min=0, max=10)\n",
    "my_sc = LinearScale(min=0, max=1)\n",
    "py_sc = LinearScale(min=0, max=1)\n",
    "\n",
    "ax_x = Axis(label='Number of sampled=True transactions this Harvest',\n",
    "             scale=x_sc, grid_lines='solid')\n",
    "nax_y = Axis(label='Next Sampling Target', scale=ny_sc, side='left', grid_lines='solid',\n",
    "             orientation='vertical', label_color='blue')\n",
    "pax_y = Axis(label='Probability Next Transaction Will be Sampled', scale=py_sc, side='left', grid_lines='solid',\n",
    "             orientation='vertical', label_color='red')\n",
    "max_y = Axis(label='Minimum Priority', scale=my_sc, side='right', grid_lines='solid',\n",
    "             orientation='vertical', label_color='green')"
   ]
  },
  {
   "cell_type": "code",
   "execution_count": 6,
   "metadata": {
    "scrolled": true
   },
   "outputs": [],
   "source": [
    "initial_results = calculate_exponential_backoff(initial_last_harvest_count)\n",
    "\n",
    "count_line = Lines(\n",
    "    x=sampledTrue_counts,\n",
    "    y=initial_results['targets'],\n",
    "    colors=['blue'],\n",
    "    scales={'x': x_sc, 'y': ny_sc})\n",
    "\n",
    "min_priority_line = Lines(\n",
    "    x=sampledTrue_counts,\n",
    "    y=initial_results['min_priorities'],\n",
    "    colors=['green'],\n",
    "    scales={'x': x_sc, 'y': my_sc})\n",
    "\n",
    "probabilities_line = Lines(\n",
    "    x=sampledTrue_counts,\n",
    "    y=initial_results['probabilities'],\n",
    "    colors=['red'],\n",
    "    scales={'x': x_sc, 'y': py_sc})"
   ]
  },
  {
   "cell_type": "code",
   "execution_count": 7,
   "metadata": {
    "scrolled": true
   },
   "outputs": [],
   "source": [
    "lhcs = SelectionSlider(\n",
    "    options=[1, 5, 10, 20, 50, 100, 200, 500, 1000, 2000, 5000, 10000],\n",
    "    value=initial_last_harvest_count,\n",
    "    description='Last Harvest Count:'\n",
    ")\n",
    "\n",
    "def update_plots(slider):\n",
    "    previous_harvest_count = lhcs.value\n",
    "    results = calculate_exponential_backoff(previous_harvest_count)\n",
    "    \n",
    "    count_line.y = results['targets']\n",
    "    min_priority_line.y = results['min_priorities']\n",
    "    probabilities_line.y = results['probabilities']\n",
    "\n",
    "lhcs.observe(update_plots, names='value')"
   ]
  },
  {
   "cell_type": "code",
   "execution_count": 8,
   "metadata": {
    "scrolled": false
   },
   "outputs": [
    {
     "data": {
      "application/vnd.jupyter.widget-view+json": {
       "model_id": "9c23944c9c4543b99a2b7b2f247894a1",
       "version_major": 2,
       "version_minor": 0
      },
      "text/plain": [
       "VBox(children=(HBox(children=(SelectionSlider(description='Last Harvest Count:', index=5, options=(1, 5, 10, 2…"
      ]
     },
     "metadata": {},
     "output_type": "display_data"
    }
   ],
   "source": [
    "fig1 = Figure(\n",
    "    marks=[count_line], axes=[ax_x, nax_y],\n",
    "    title='Exponential Backoff of Sampling Target')\n",
    "\n",
    "fig2 = Figure(\n",
    "    marks=[min_priority_line, probabilities_line], axes=[ax_x, max_y, pax_y],\n",
    "    title='Effect of Exponential Backoff',\n",
    "    legend_location='right')\n",
    "\n",
    "VBox([\n",
    "    HBox([lhcs], layout=Layout(margin='auto')),\n",
    "    HBox([fig1, fig2])\n",
    "])"
   ]
  },
  {
   "cell_type": "code",
   "execution_count": null,
   "metadata": {
    "scrolled": true
   },
   "outputs": [],
   "source": []
  }
 ],
 "metadata": {
  "kernelspec": {
   "display_name": "Python 3",
   "language": "python",
   "name": "python3"
  },
  "language_info": {
   "codemirror_mode": {
    "name": "ipython",
    "version": 3
   },
   "file_extension": ".py",
   "mimetype": "text/x-python",
   "name": "python",
   "nbconvert_exporter": "python",
   "pygments_lexer": "ipython3",
   "version": "3.6.4"
  },
  "toc": {
   "base_numbering": 1,
   "nav_menu": {},
   "number_sections": true,
   "sideBar": true,
   "skip_h1_title": false,
   "title_cell": "Table of Contents",
   "title_sidebar": "Contents",
   "toc_cell": false,
   "toc_position": {},
   "toc_section_display": true,
   "toc_window_display": false
  }
 },
 "nbformat": 4,
 "nbformat_minor": 2
}
